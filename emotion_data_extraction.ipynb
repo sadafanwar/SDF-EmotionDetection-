{
  "cells": [
    {
      "cell_type": "code",
      "execution_count": null,
      "metadata": {
        "id": "0NCHHS2VZIzP"
      },
      "outputs": [],
      "source": [
        "import os\n",
        "import pandas as pd"
      ]
    },
    {
      "cell_type": "code",
      "execution_count": null,
      "metadata": {
        "id": "QqEeYx7nZIzS"
      },
      "outputs": [],
      "source": [
        "# Specify the directory where the video files are stored\n",
        "video_directory = 'Videos'"
      ]
    },
    {
      "cell_type": "code",
      "execution_count": null,
      "metadata": {
        "id": "BwrpiCRoZIzS"
      },
      "outputs": [],
      "source": [
        "# Initialize a list to store the data\n",
        "data = []"
      ]
    },
    {
      "cell_type": "code",
      "execution_count": null,
      "metadata": {
        "id": "wlunFte1ZIzS"
      },
      "outputs": [],
      "source": [
        "# Loop through each file in the directory\n",
        "for filename in os.listdir(video_directory):\n",
        "    if filename.endswith('.mp4'):\n",
        "        # Split the filename to extract individual features\n",
        "        parts = filename.split('-')\n",
        "        modality = parts[0]\n",
        "        vocal_channel = parts[1]\n",
        "        emotion = parts[2]\n",
        "        emotional_intensity = parts[3]\n",
        "        statement = parts[4]\n",
        "        repetition = parts[5]\n",
        "        actor = parts[6].split('.')[0]  # Remove the file extension\n",
        "\n",
        "        # Append the data to the list\n",
        "        data.append({\n",
        "            'Filename': filename,\n",
        "            'Modality': modality,\n",
        "            'Vocal Channel': vocal_channel,\n",
        "            'Emotion': emotion,\n",
        "            'Emotional Intensity': emotional_intensity,\n",
        "            'Statement': statement,\n",
        "            'Repetition': repetition,\n",
        "            'Actor': actor\n",
        "        })\n",
        "\n",
        "# Convert the list to a DataFrame\n",
        "df = pd.DataFrame(data)\n",
        "\n",
        "# Save the DataFrame to a CSV file\n",
        "df.to_csv('emotion_data.csv', index=False)"
      ]
    },
    {
      "cell_type": "code",
      "execution_count": null,
      "metadata": {
        "id": "29UN2ovxZIzT"
      },
      "outputs": [],
      "source": []
    }
  ],
  "metadata": {
    "kernelspec": {
      "display_name": "dump_experiments",
      "language": "python",
      "name": "python3"
    },
    "language_info": {
      "codemirror_mode": {
        "name": "ipython",
        "version": 3
      },
      "file_extension": ".py",
      "mimetype": "text/x-python",
      "name": "python",
      "nbconvert_exporter": "python",
      "pygments_lexer": "ipython3",
      "version": "3.8.11"
    },
    "colab": {
      "provenance": []
    }
  },
  "nbformat": 4,
  "nbformat_minor": 0
}